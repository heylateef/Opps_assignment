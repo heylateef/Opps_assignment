{
 "cells": [
  {
   "cell_type": "markdown",
   "metadata": {},
   "source": [
    "Q1, Create a vehicle class with an init method having instance variables as name_of_vehicle, max_speed\n",
    "and average_of_vehicle."
   ]
  },
  {
   "cell_type": "code",
   "execution_count": null,
   "metadata": {},
   "outputs": [],
   "source": [
    "class vehicle:\n",
    "    def __init__(self,name_of_vehicle,max_speed,average_of_vehicle):\n",
    "        self.name = name_of_vehicle\n",
    "        self.max_speed=max_speed\n",
    "        self.average_of_vehicle=average_of_vehicle\n",
    "    def vehicle(self):\n",
    "        print(\"Name of the vehicle is:\",self.name)\n",
    "        print(\"Max Speed of the Vehicle is:\",self.max_speed)\n",
    "        print(\"Average Of the vehicle is:\",self.average_of_vehicle)\n",
    "car=vehicle(\"Innova\",220,12)\n",
    "car.vehicle()"
   ]
  },
  {
   "cell_type": "markdown",
   "metadata": {},
   "source": [
    "Q2. Create a child class car from the vehicle class created in Que 1, which will inherit the vehicle class.\n",
    "Create a method named seating_capacity which takes capacity as an argument and returns the name of\n",
    "the vehicle and its seating capacity."
   ]
  },
  {
   "cell_type": "code",
   "execution_count": null,
   "metadata": {},
   "outputs": [],
   "source": [
    "class Vehicle:\n",
    "    def __init__(self, name):\n",
    "        self.name = name\n",
    "    def display_info(self):\n",
    "        return f\"This is a {self.name}.\"\n",
    "class Car(Vehicle):\n",
    "    def seating_capacity(self, capacity):\n",
    "        return f\"{self.name} has a seating capacity of {capacity} people.\"\n",
    "my_car = Car(\"Toyota Camry\")\n",
    "print(my_car.display_info())\n",
    "print(my_car.seating_capacity(5))\n"
   ]
  },
  {
   "cell_type": "markdown",
   "metadata": {},
   "source": [
    "Q3. What is multiple inheritance? Write a python code to demonstrate multiple inheritance."
   ]
  },
  {
   "cell_type": "markdown",
   "metadata": {},
   "source": [
    "Ans: Multiple inheritance is the two classes which inherit from one class is said to be multiple inheritance"
   ]
  },
  {
   "cell_type": "code",
   "execution_count": null,
   "metadata": {},
   "outputs": [],
   "source": [
    "class Parent1:\n",
    "    def parent1_method(self):\n",
    "        print(\"This is Parent 1's method.\")\n",
    "class Parent2:\n",
    "    def parent2_method(self):\n",
    "        print(\"This is Parent 2's method.\")\n",
    "class Child(Parent1, Parent2):\n",
    "    def child_method(self):\n",
    "        print(\"This is the Child's method.\")\n",
    "child = Child()\n",
    "child.parent1_method()\n",
    "child.parent2_method()\n",
    "child.child_method()\n"
   ]
  },
  {
   "cell_type": "markdown",
   "metadata": {},
   "source": [
    "Q4. What are getter and setter in python? Create a class and create a getter and a setter method in this\n",
    "class."
   ]
  },
  {
   "cell_type": "markdown",
   "metadata": {},
   "source": [
    "\n",
    "In Python, getters and setters are methods used to access and modify the attributes of a class in a controlled manner"
   ]
  },
  {
   "cell_type": "code",
   "execution_count": null,
   "metadata": {},
   "outputs": [],
   "source": [
    "class Rectangle:\n",
    "    def __init__(self, width, height):\n",
    "        self._width = width\n",
    "        self._height = height\n",
    "\n",
    "    def get_width(self):\n",
    "        return self._width\n",
    "\n",
    "    def set_width(self, width):\n",
    "        if width > 0:\n",
    "            self._width = width\n",
    "        else:\n",
    "            print(\"Width must be a positive value.\")\n",
    "\n",
    "    def get_height(self):\n",
    "        return self._height\n",
    "\n",
    "    def set_height(self, height):\n",
    "        if height > 0:\n",
    "            self._height = height\n",
    "        else:\n",
    "            print(\"Height must be a positive value.\")\n",
    "\n",
    "    def area(self):\n",
    "        return self._width * self._height\n",
    "    \n",
    "rectangle = Rectangle(5, 3)\n",
    "print(rectangle.get_width())  \n",
    "print(rectangle.get_height())\n",
    "rectangle.set_width(7)\n",
    "rectangle.set_height(4)\n",
    "print(rectangle.get_width()) \n",
    "print(rectangle.get_height())\n",
    "print(rectangle.area())\n"
   ]
  },
  {
   "cell_type": "markdown",
   "metadata": {},
   "source": [
    "Q5.What is method overriding in python? Write a python code to demonstrate method overriding."
   ]
  },
  {
   "cell_type": "markdown",
   "metadata": {},
   "source": [
    "ANS: Method overriding is a concept in oops where a subclass provides a different implementation for a method that is already defined in its parent class. When a method in the subclass has the same name and signature (parameters) as a method in the parent class, the subclass method overrides the parent class method."
   ]
  },
  {
   "cell_type": "code",
   "execution_count": null,
   "metadata": {},
   "outputs": [],
   "source": [
    "class parent:\n",
    "    def parent_method(self):\n",
    "        print(\"This is Parent Method\")\n",
    "class child1(parent):\n",
    "    def parent_method(self):\n",
    "        print(\"This is Child1 class\")\n",
    "class child2(parent):\n",
    "    def parent_method(sele):\n",
    "        print(\"This is child2 class\")\n",
    "child_1=child1()\n",
    "child_2=child2()\n",
    "child_1.parent_method()\n",
    "child_2.parent_method()\n"
   ]
  }
 ],
 "metadata": {
  "kernelspec": {
   "display_name": "Python 3",
   "language": "python",
   "name": "python3"
  },
  "language_info": {
   "codemirror_mode": {
    "name": "ipython",
    "version": 3
   },
   "file_extension": ".py",
   "mimetype": "text/x-python",
   "name": "python",
   "nbconvert_exporter": "python",
   "pygments_lexer": "ipython3",
   "version": "3.11.2"
  },
  "orig_nbformat": 4
 },
 "nbformat": 4,
 "nbformat_minor": 2
}
